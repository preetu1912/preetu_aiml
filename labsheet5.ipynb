{
  "nbformat": 4,
  "nbformat_minor": 0,
  "metadata": {
    "colab": {
      "provenance": [],
      "authorship_tag": "ABX9TyMoBtPFxk9OI8ooYzMs/W8M",
      "include_colab_link": true
    },
    "kernelspec": {
      "name": "python3",
      "display_name": "Python 3"
    },
    "language_info": {
      "name": "python"
    }
  },
  "cells": [
    {
      "cell_type": "markdown",
      "metadata": {
        "id": "view-in-github",
        "colab_type": "text"
      },
      "source": [
        "<a href=\"https://colab.research.google.com/github/preetu1912/preetu_aiml/blob/main/labsheet5.ipynb\" target=\"_parent\"><img src=\"https://colab.research.google.com/assets/colab-badge.svg\" alt=\"Open In Colab\"/></a>"
      ]
    },
    {
      "cell_type": "code",
      "execution_count": 1,
      "metadata": {
        "id": "kzVBPEoxUW6z"
      },
      "outputs": [],
      "source": [
        "import numpy as np\n",
        "import pandas as pd\n"
      ]
    },
    {
      "cell_type": "code",
      "source": [
        "import matplotlib.pyplot as plt\n",
        "import matplotlib.animation as animation\n",
        "\n",
        "data = pd.read_csv('/content/Labsheet 5 Sales.csv')"
      ],
      "metadata": {
        "id": "3gM3GJirUjRh"
      },
      "execution_count": 4,
      "outputs": []
    },
    {
      "cell_type": "code",
      "source": [
        "x=data['GrLivArea']\n",
        "y=data['SalePrice']\n",
        "x=(x-x.mean())/x.std()\n",
        "x=np.c_[np.ones(x.shape[0]),x]"
      ],
      "metadata": {
        "id": "raPpQ352VEHB"
      },
      "execution_count": 6,
      "outputs": []
    },
    {
      "cell_type": "code",
      "source": [
        "alpha=0.01\n",
        "iterations=200\n",
        "m=y.size\n",
        "np.random.seed(123)\n",
        "theta=np.random.rand(2)\n",
        "\n"
      ],
      "metadata": {
        "id": "kO3Ye-XzWHQw"
      },
      "execution_count": 8,
      "outputs": []
    },
    {
      "cell_type": "code",
      "source": [
        "def gradient_descent(x,y,theta,iterations,alpha):\n",
        "  past_costs=[]\n",
        "  past_thetas=[theta]\n",
        "  for i in range(iterations):\n",
        "    prediction=np.dot(x,theta)\n",
        "    error=prediction-y\n",
        "    cost=(1/(2*m))*np.dot(error.T,error)\n",
        "    past_costs.append(cost)\n",
        "    theta=theta-(alpha*1/m)*(np.dot(x.T,error))\n",
        "    past_thetas.append(theta)\n",
        "\n",
        "\n",
        "    return past_thetas,past_costs\n",
        "  past_thetas,past_costs=gradient_descent(x,y,theta,iterations,alpha)\n",
        "  theta=past_thetas[-1]\n",
        "\n",
        "  print(\"Gradient Descent:{:.2f}\".form(theta[0],theta[1]))"
      ],
      "metadata": {
        "id": "INxpVPliXSZU"
      },
      "execution_count": 14,
      "outputs": []
    },
    {
      "cell_type": "code",
      "source": [
        "plt.title('cost Function J')\n",
        "plt.xlabel('No of iterations')\n",
        "plt.ylabel('Cost')\n",
        "plt.plot(past_costs)\n",
        "plt.show()"
      ],
      "metadata": {
        "colab": {
          "base_uri": "https://localhost:8080/",
          "height": 472
        },
        "id": "lIkszU4BY40G",
        "outputId": "634f4718-1e1c-4886-862c-8c828ce0ab57"
      },
      "execution_count": 20,
      "outputs": [
        {
          "output_type": "display_data",
          "data": {
            "text/plain": [
              "<Figure size 640x480 with 1 Axes>"
            ],
            "image/png": "[encoded data removed]"
          },
          "metadata": {}
        }
      ]
    },
    {
      "cell_type": "code",
      "source": [
        "fig=plt.figure()\n",
        "ax=plt.axes()\n",
        "plt.title('Sale Price vs Living Area')\n",
        "plt.xlabel('Living Area in square feet(normalised)')\n",
        "plt.ylabel('Sale Price($)')\n",
        "plt.scatter(x[:,1],y,color='red')\n",
        "line,=ax.plot([],[],lw=2)\n",
        "annotation=ax.text(-1,70000,'')\n",
        "annotation.set_animated(True)\n",
        "plt.close()"
      ],
      "metadata": {
        "id": "JNvYlOdSccYc"
      },
      "execution_count": 22,
      "outputs": []
    },
    {
      "cell_type": "code",
      "source": [
        "def init():\n",
        "  line.set_data([],[])\n",
        "  annotation.set_position((-1, 700000))\n",
        "  return line,annotation"
      ],
      "metadata": {
        "id": "xj81Yo-nfuyQ"
      },
      "execution_count": 30,
      "outputs": []
    },
    {
      "cell_type": "code",
      "source": [
        "def animate(i):\n",
        "  x=np.linspace(-5,20,1000)\n",
        "  y=past_thetas[i][1]*x+past_thetas[i][0]\n",
        "  line.set_data(x,y)\n",
        "  # Use min to ensure i does not exceed the list's bounds.\n",
        "  annotation.set_text('cost=%.2f e10'% (past_costs[min(i, len(past_costs) - 1)]/1000000000))\n",
        "  return line,annotation\n",
        "\n",
        "\n",
        "anim = animation.FuncAnimation(fig, animate, init_func=init,\n",
        "                              # Set frames to the length of past_costs or past_thetas\n",
        "                              # to avoid accessing elements beyond the list's size.\n",
        "                              frames=len(past_thetas), interval=0, blit=True)\n",
        "anim.save('animation.gif',writer='imagemagick',fps=30)"
      ],
      "metadata": {
        "colab": {
          "base_uri": "https://localhost:8080/"
        },
        "id": "aBDf7ZHOjvh1",
        "outputId": "3abb2576-29d0-4eb2-c5e0-5c54bcafc762"
      },
      "execution_count": 36,
      "outputs": [
        {
          "output_type": "stream",
          "name": "stderr",
          "text": [
            "WARNING:matplotlib.animation:MovieWriter imagemagick unavailable; using Pillow instead.\n"
          ]
        }
      ]
    }
  ]
}